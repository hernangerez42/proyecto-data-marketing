{
 "cells": [
  {
   "cell_type": "code",
   "execution_count": 15,
   "metadata": {},
   "outputs": [],
   "source": [
    "import pandas as pd\n",
    "import pyodbc\n",
    "import csv"
   ]
  },
  {
   "cell_type": "code",
   "execution_count": 16,
   "metadata": {},
   "outputs": [],
   "source": [
    "server = 'database1234.database.windows.net'\n",
    "database = 'master'\n",
    "username = 'administrador'\n",
    "password = '42757875P.'\n",
    "connection_string = f'DRIVER={{ODBC Driver 17 for SQL Server}};SERVER={server};DATABASE={database};UID={username};PWD={password}'\n"
   ]
  },
  {
   "cell_type": "code",
   "execution_count": 17,
   "metadata": {},
   "outputs": [],
   "source": [
    "# Establecer la conexión\n",
    "conn = pyodbc.connect(connection_string)\n",
    "# Deshabilitar las transacciones\n",
    "conn.autocommit = True"
   ]
  },
  {
   "cell_type": "code",
   "execution_count": 18,
   "metadata": {},
   "outputs": [],
   "source": [
    "new_database_name = 'DatacampProject'\n",
    "check_database_query = f\"SELECT COUNT(*) FROM sys.databases WHERE name = '{new_database_name}'\"\n",
    "cursor = conn.cursor()\n",
    "cursor.execute(check_database_query)\n",
    "database_exists = cursor.fetchone()[0]\n",
    "\n",
    "if database_exists == 0:\n",
    "    create_database_query = f'CREATE DATABASE {new_database_name}'\n",
    "    cursor.execute(create_database_query)"
   ]
  },
  {
   "cell_type": "code",
   "execution_count": 19,
   "metadata": {},
   "outputs": [],
   "source": [
    "#usamos la nueva base de datos\n",
    "conn = pyodbc.connect(connection_string, database=new_database_name)"
   ]
  },
  {
   "cell_type": "code",
   "execution_count": 20,
   "metadata": {},
   "outputs": [
    {
     "data": {
      "text/plain": [
       "<pyodbc.Cursor at 0x1e9fbe85730>"
      ]
     },
     "execution_count": 20,
     "metadata": {},
     "output_type": "execute_result"
    }
   ],
   "source": [
    "#eliminamos la tabla client si existe\n",
    "cursor.execute(\"DROP TABLE IF EXISTS client\")\n",
    "#creamos la tabla client\n",
    "create_client_table_query = '''CREATE TABLE client (\n",
    "                                \"id\" INT NOT NULL,\n",
    "                                \"age\"   INT NOT NULL,\n",
    "                                \"job\"  VARCHAR(50) NOT NULL,\t\n",
    "                                \"marital\"   VARCHAR(50) NOT NULL,\n",
    "                                \"education\" VARCHAR(50) NOT NULL,\n",
    "                                \"credit_default\" VARCHAR(50) NOT NULL,\n",
    "                                \"housing\" VARCHAR(50) NOT NULL,\n",
    "                                \"loan\" VARCHAR(50) NOT NULL);'''\n",
    "\n",
    "cursor.execute(create_client_table_query)"
   ]
  },
  {
   "cell_type": "code",
   "execution_count": 25,
   "metadata": {},
   "outputs": [
    {
     "data": {
      "text/plain": [
       "<pyodbc.Cursor at 0x1e9fbe85730>"
      ]
     },
     "execution_count": 25,
     "metadata": {},
     "output_type": "execute_result"
    }
   ],
   "source": [
    "\n",
    "cursor.execute(\"DROP TABLE IF EXISTS campaing\")\n",
    "#creamos la tabla campaing\n",
    "create_campaing_table_query = '''CREATE TABLE campaing (\n",
    "                                \"campaing_id\" INT NOT NULL,\n",
    "                                \"client_id\"   INT NOT NULL,\n",
    "                                \"number_contacts\"  INT NOT NULL,\n",
    "                                \"contact_duration\"   INT NOT NULL,\n",
    "                                \"pdays\" INT NOT NULL,\n",
    "                                \"previous_campaign_contacts\" INT NOT NULL,\n",
    "                                \"previous_outcome\" VARCHAR(50) NOT NULL,\n",
    "                                \"campaign_outcome\" VARCHAR(50) NOT NULL,\n",
    "                                \"last_contact_date\" DATE NOT NULL);'''\n",
    "\n",
    "cursor.execute(create_campaing_table_query)"
   ]
  },
  {
   "cell_type": "code",
   "execution_count": 26,
   "metadata": {},
   "outputs": [
    {
     "data": {
      "text/plain": [
       "<pyodbc.Cursor at 0x1e9fbe85730>"
      ]
     },
     "execution_count": 26,
     "metadata": {},
     "output_type": "execute_result"
    }
   ],
   "source": [
    "#eliminamos la tabla economics si existe\n",
    "cursor.execute(\"DROP TABLE IF EXISTS economics\")\n",
    "#creamos la tabla economics\n",
    "create_economics_table_query = '''CREATE TABLE economics (\n",
    "                                \"client_id\"   INT NOT NULL,\n",
    "                                \"emp_var_rate\"  FLOAT NOT NULL,\n",
    "                                \"cons_price_idx\"   FLOAT NOT NULL,\n",
    "                                \"euribor_tree_months\" FLOAT NOT NULL,\n",
    "                                \"number_employed\" FLOAT NOT NULL);'''\n",
    "\n",
    "cursor.execute(create_economics_table_query)"
   ]
  }
 ],
 "metadata": {
  "kernelspec": {
   "display_name": "Python 3",
   "language": "python",
   "name": "python3"
  },
  "language_info": {
   "codemirror_mode": {
    "name": "ipython",
    "version": 3
   },
   "file_extension": ".py",
   "mimetype": "text/x-python",
   "name": "python",
   "nbconvert_exporter": "python",
   "pygments_lexer": "ipython3",
   "version": "3.11.3"
  },
  "orig_nbformat": 4
 },
 "nbformat": 4,
 "nbformat_minor": 2
}
